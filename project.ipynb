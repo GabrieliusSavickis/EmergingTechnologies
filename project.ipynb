{
 "cells": [
  {
   "cell_type": "markdown",
   "metadata": {},
   "source": [
    "# Deutsch's Algorithm"
   ]
  },
  {
   "cell_type": "markdown",
   "metadata": {},
   "source": [
    "# 1. Introduction\n",
    "\n",
    "**Overview**\n",
    "<br>\n",
    "The Boolean function problem is a fundamental computer science problem that is addressed by the Deutsch algorithm. This problem involves determining the nature of an unknown function that takes a single bit as output. The algorithm specifically deals with the division of these functions into two groups: balanced and constant.\n",
    "\n",
    "A function is regarded as constant in this sense if it returns the same value (either 0 or 1) for every possible input. On the other hand, if a function yields 0 for half of the inputs and 1 for the other half, it is said to be balanced.[[1]](https://arxiv.org/pdf/quant-ph/9707033.pdf)\n",
    "\n",
    "**Solutions and Limitations**\n",
    "<br>\n",
    "In the usual way of tackling this issue, you'd typically query the boolean function twice, once for each potential input, and then take note of the resulting values. The outputs for a balanced function will differ for at least one pair of inputs, whereas the outputs for a constant function will always be the same.\n",
    "\n",
    "Although this classical approach is quite straightforward, as the input space increases, it becomes inefficient. For n-bit functions, the classical algorithm requires $ 2^{n-1} + 1 $ queries in the worst case, making it inefficient for large input spaces.[[2]](https://link.springer.com/article/10.1007/s11128-017-1679-7)\n",
    "\n",
    "**Quantum Advantage**\n",
    "<br>\n",
    "David Deutsch developed the algorithm in the 1980s, which uses quantum parallelism to solve the Boolean function problem with just one query. The advantage comes from the ability of quantum bits, or qubits, to exist in multiple states at once through a process known as superposition.\n",
    "\n",
    "Taking advantage of this characteristic, the quantum algorithm can assess the function for both potential inputs at the same time, resulting in a significant decrease in the necessary queries. This quantum parallelism highlights the potential for quantum computers to surpass classical counterparts in certain problem domains, even for tasks that may seem straightforward, such as the Boolean function problem. \n",
    "\n",
    "In the upcoming sections, we'll delve into the details of Deutsch's algorithm, examine how it's implemented in a quantum circuit using Qiskit, and simulate it's performance to illustrate its effectivess in solving this particular problem."
   ]
  },
  {
   "cell_type": "markdown",
   "metadata": {},
   "source": [
    "## 2. Problem Statement\n",
    "\n",
    "Deutsch's algorithm addresses a specific problem in quantum computing known as the **Boolean function problem**. The task is to determine the nature of a given Boolean function, which takes a single bit as input and produces a single bit as output. In particular, Deutsch's algorithm classifies these functions into two distinct categories: **constant** or **balanced**.\n",
    "\n",
    "### Mathematical Formulation\n",
    "\n",
    "Let $( f: {0,1} -> {0,1} )$ represent the Boolean function in question. The problem can be formally defined as follows:\n",
    "\n",
    "\n",
    "$f(x) =\n",
    "\\begin{cases} \n",
    "0 & \\text{if } f(0) = f(1) \\\\\n",
    "1 & \\text{if } f(0) \\neq f(1)\n",
    "\\end{cases}$\n",
    "\n",
    "\n",
    "Here, $( f(0) )$ and $( f(1) )$ denote the outputs of the function for the inputs 0 and 1, respectively. The goal is to determine if the function is **constant** (outputs 0 for all inputs) or **balanced** (outputs 0 for half the inputs and 1 for the other half).\n"
   ]
  },
  {
   "cell_type": "markdown",
   "metadata": {},
   "source": [
    "## 3. Deutsch's Algorithm\n",
    "\n",
    "In order to solve the Boolean function problem more quickly than using traditional techniques, David Deutsch developed a basic quantum computing algorithm. With just one query to the function's oracle, it uses the ideas of quantum parallelism and interference to determine if a given Boolean function is constant or balanced.\n",
    "\n",
    "### Quantum Parallelism\n",
    "In traditional computing, one usually gathers knowledge about the behaviour of a function by systematically evaluating it at various points. On the other hand, Deutsch's approach makes use of quantum parallelism. It makes use of qubits, which by superposition are capable of being in several states at once. When dealing with a single qubit, this entails simultaneously evaluating the function for each potential input.\n",
    "\n",
    "### Key Steps:[[3]](https://people.vcu.edu/~sgharibian/courses/CMSC491/notes/Lecture%206%20-%20Deutsch's%20algorithm.pdf)\n",
    "1. **Initialization:** Begin with two qubits initialized to the state $$ |01\\rangle $$\n",
    "2. **Superposition:** Apply a Hadamard gate to each qubit to create a superposition of all possible states. $$ \\frac{1}{\\sqrt{2}}(|0\\rangle - |1\\rangle) \\otimes \\frac{1}{\\sqrt{2}}(|0\\rangle + |1\\rangle) $$\n",
    "3. **Oracle Query:** Apply the oracle function, which is represented by a quantum gate to the superposition of states. This step is crucial for the algorithm's efficiency. $$ \\frac{1}{\\sqrt{2}}(|f(0)\\rangle - |f(1)\\rangle) \\otimes \\frac{1}{\\sqrt{2}}(|0\\rangle + |1\\rangle) $$\n",
    "4. **Analysis:** Apply Hadamard gates again to the first qubit to bring it back to the computational basis. This step amplifies the amplitudes of the states corresponding to the function outputs. $$ \\frac{1}{\\sqrt{2}}(|f(0)\\rangle - |f(1)\\rangle) $$\n",
    "5. **Measurement:** Finally, measure the first qubit. If the result is $( |0\\rangle )$, the function is constant; if the result is $( |1\\rangle )$, the function is balanced.\n",
    "\n",
    "#### Mathematical Representation:\n",
    "The algorithm's quantum circuit can be succinctly represented in LaTeX notation. For example, the circuit implementing Deutsch's algorithm for a specific oracle function $( U_f )$ can be expressed as follows: $$ |0\\rangle \\xrightarrow{\\text{H}} \\frac{1}{\\sqrt{2}}(|0\\rangle - |1\\rangle) \\xrightarrow{\\text{U}_f} \\frac{1}{\\sqrt{2}}(|f(0)\\rangle - |f(1)\\rangle) \\xrightarrow{\\text{H}} \\text{Result} $$"
   ]
  },
  {
   "cell_type": "markdown",
   "metadata": {},
   "source": [
    "# References"
   ]
  },
  {
   "cell_type": "markdown",
   "metadata": {},
   "source": [
    "- Josza, Richard (1998) *Quantum algorithms and the Fourier transform*[[1]](https://arxiv.org/pdf/quant-ph/9707033.pdf)\n",
    "- Johansson, Niklas and Larsson, Jan (2017) *Efficient classical simulation of the Deutsch–Jozsa and Simon’s algorithms*[[2]](https://link.springer.com/article/10.1007/s11128-017-1679-7)\n",
    "- Gharibian, Sevag (2015)[[3]](https://people.vcu.edu/~sgharibian/courses/CMSC491/notes/Lecture%206%20-%20Deutsch's%20algorithm.pdf)"
   ]
  },
  {
   "cell_type": "markdown",
   "metadata": {},
   "source": []
  }
 ],
 "metadata": {
  "language_info": {
   "name": "python"
  }
 },
 "nbformat": 4,
 "nbformat_minor": 2
}
