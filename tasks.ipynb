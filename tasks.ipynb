{
 "cells": [
  {
   "cell_type": "markdown",
   "metadata": {},
   "source": [
    "# Emerging Technologies Tasks\n",
    "\n",
    "***"
   ]
  },
  {
   "attachments": {},
   "cell_type": "markdown",
   "metadata": {},
   "source": [
    "## 1. The Collatz Conjecture Problem"
   ]
  },
  {
   "cell_type": "markdown",
   "metadata": {},
   "source": [
    "### What is the Collatz Conjecture Problem?\n",
    "\n",
    "The Collatz Conjectuce Problem[[1]](https://www.quantamagazine.org/why-mathematicians-still-cant-solve-the-collatz-conjecture-20200922/) is a famous unsolved problem in mathematics. It's a relatively simple, yet intriguing mathematical puzzle that has stumped mathematics for decades. The conjecture is named after the German mathetmatician Lothar Collatz, who first introduced it in 1937.[[2]](https://en.wikipedia.org/wiki/Collatz_conjecture#:~:text=The%20Collatz%20conjecture%20is%20one,every%20positive%20integer%20into%201.)\n",
    "\n",
    "Here's how the Collatz Conjectur works:\n",
    "\n",
    "\\begin{cases}\n",
    "\\frac{x}3{2} & \\text{if } x \\text{ is even} \\\\\n",
    "3x + 1 & \\text{otherwise}\n",
    "\\end{cases}\n",
    "1. Start with any positive integer $n$.\n",
    "2. If $n$ is even, divide it by 2 to get $n/2$\n",
    "3. If $n$ is odd, multiply it by 3 and add 1 to get $3n+1$\n",
    "4. Take the result from step 2 or 3 and repeat the process using it as the new value of $n$\n",
    "5. Continue this process and you will generate a sequence of integers. \n",
    "\n",
    "**The Conjecture suggests that repeating two simple arithmetic operations will eventually transform every positive integer into 1**\n",
    "\n",
    "### Collatz Conjecture Example\n",
    "**Let's start with the number 6**\n",
    "- 6 -> 3 (since 6 is even, we divide by 2)\n",
    "- 3 -> 10 (since 3 is odd, we multiply by 3 and add 1)\n",
    "- 10 -> 5 (since 10 is even, we divide by 2)\n",
    "- 5 -> 16 (since 5 is odd, we multiply by 3 and add 1)\n",
    "- 16 -> 8 (since 16 is even, we divide by 2)\n",
    "- 8 -> 4 (since 8 is even, we divide by 2)\n",
    "- 4 -> 2 (since 4 is even, we divide by 2)\n",
    "- 2 -> 1 (since 2 is even, we divide by 2)\n",
    "\n",
    "### Verifying that the conjecture is true for the first $10,000$ positive integers\n",
    "Expanding on Elsie Christensen's article[[3]](https://copyprogramming.com/howto/collatz-conjecture-in-python#collatz-conjecture-in-python) I will create a Python program that defines a function 'collatz_sequence' that generates the Collatz sequence for a given positive integer $n$.\n",
    "The 'verify_collatz_conjecture' function iterates through the first $10,000$ positive integers, checks if each sequence ends with 1 and prints a counter-example if one is found.\n"
   ]
  },
  {
   "cell_type": "code",
   "execution_count": null,
   "metadata": {},
   "outputs": [],
   "source": [
    "def collatz_sequence(n):\n",
    "    sequence = [n]\n",
    "    while n != 1:\n",
    "        if n % 2 == 0:\n",
    "            n = n // 2\n",
    "        else:\n",
    "            n = 3 * n + 1\n",
    "        sequence.append(n)\n",
    "    return sequence\n",
    "\n",
    "def verify_collatz_conjecture(limit):\n",
    "    for i in range(1, limit + 1):\n",
    "        sequence = collatz_sequence(i)\n",
    "        print(f\"Collatz sequence for {i}: {sequence}\")\n",
    "        if sequence[-1] != 1:\n",
    "            print(f\"Counterexample found for {i}: {sequence}\")\n",
    "            return False\n",
    "    return True\n",
    "\n",
    "if verify_collatz_conjecture(10000):\n",
    "    print(\"The Collatz conjecture is verified for the first 10,000 positive integers.\")\n",
    "else:\n",
    "    print(\"The Collatz conjecture is not verified for the first 10,000 positive integers.\")"
   ]
  },
  {
   "attachments": {},
   "cell_type": "markdown",
   "metadata": {},
   "source": [
    "***"
   ]
  },
  {
   "attachments": {},
   "cell_type": "markdown",
   "metadata": {},
   "source": [
    "## 2. Approximate the square root of a floating point number x without using the power operator or a package. "
   ]
  },
  {
   "cell_type": "markdown",
   "metadata": {},
   "source": [
    "This function $sqrt(x)$ starts with an initial guess z0, and it repeatedly improves the guess using the formula for Newton's method[[4]](https://en.wikipedia.org/wiki/Newton's_method) until the difference between consecutive guesses is less than the specified threshold. The result is an approximation of the square root of the input number x[[5]](https://www.geeksforgeeks.org/square-root-of-a-number-without-using-sqrt-function/). You can adjust the threshold and the initial guess as needed."
   ]
  },
  {
   "cell_type": "code",
   "execution_count": null,
   "metadata": {},
   "outputs": [],
   "source": [
    "def sqrt(x):\n",
    "    # Initial guess for the square root\n",
    "    z0 = x / 2.0  # You can choose any reasonable initial value\n",
    "    \n",
    "    # Define a threshold for convergence\n",
    "    threshold = 0.01\n",
    "    \n",
    "    while True:\n",
    "        # Calculate the next approximation using Newton's method\n",
    "        z1 = 0.5 * (z0 + x / z0)\n",
    "        \n",
    "        # Check if the difference between the current and previous guess is less than the threshold\n",
    "        if abs(z1 - z0) < threshold:\n",
    "            return z1  # Return the approximate square root\n",
    "        \n",
    "        z0 = z1  # Update the guess for the next iteration\n",
    "\n",
    "# Example usage:\n",
    "x = 16.0  # Replace with the number for which you want to find the square root in this case we use 16\n",
    "result = sqrt(x)\n",
    "print(f\"Approximate square root of {x} is {result}\")\n"
   ]
  },
  {
   "attachments": {},
   "cell_type": "markdown",
   "metadata": {},
   "source": [
    "***"
   ]
  },
  {
   "attachments": {},
   "cell_type": "markdown",
   "metadata": {},
   "source": [
    "## 3. Determine the number of possible functions taking four bits as input and outputting a single bit"
   ]
  },
  {
   "attachments": {},
   "cell_type": "markdown",
   "metadata": {},
   "source": [
    "### How many times do you need to call the function to be certain what function it is?\n",
    "This question, in a sense, is a question of combinations.\n",
    "\n",
    "We can start with a single-valued function of Boolean variables. I claim that there are 2n\n",
    " combinations of a single-valued function. For instance, if we start with one variable, there are two combinations; namely, a and ¬a. If we have two variables, there are four combinations. This is because we can have, for a, either a or ¬a. Then, for b, we can have either b or ¬b. So there are four combinations between these two variables. \n",
    "Similarly, for four variables, there are $2×2×2x2=2^4$ combinations between these variables.[[6]](https://math.stackexchange.com/questions/505393/how-many-semantically-different-boolean-functions-are-there-for-n-boolean-variab)"
   ]
  },
  {
   "cell_type": "code",
   "execution_count": null,
   "metadata": {},
   "outputs": [],
   "source": [
    "import random\n",
    "\n",
    "# Generate a random 4-bit function represented as a list of 16 elements. \n",
    "# Each element can be either 0 or 1, which corresponds to the output of the function for a specific input. \n",
    "# This simulates one of the 2^16 possible functions.\n",
    "random_function = [random.choice([0, 1]) for _ in range(16)]\n",
    "\n",
    "# Define a function called evaluate_function that takes a 4-bit binary input as a list of 0s and 1s. \n",
    "# It first checks if the input is indeed 4 bits long. \n",
    "# Then, it converts the binary input to a decimal (base 10) representation to determine which position in the random_function \n",
    "# list corresponds to the given input and returns the corresponding output.\n",
    "def evaluate_function(input_bits):\n",
    "    if len(input_bits) != 4:\n",
    "        raise ValueError(\"Input must be a 4-bit binary string\")\n",
    "    \n",
    "    decimal_input = int(''.join(map(str, input_bits)), 2)\n",
    "    return random_function[decimal_input]\n",
    "\n",
    "# We test the function by iterating through all possible 4-bit binary inputs from 0000 to 1111 (0 to 15 in decimal). \n",
    "# For each input, we use format(i, '04b') to convert the integer i to a 4-bit binary string, \n",
    "# and then we evaluate the function using this input. We print both the input and the corresponding output.\n",
    "for i in range(16):\n",
    "    input_bits = format(i, '04b')  # Convert integer to 4-bit binary string\n",
    "    output = evaluate_function(list(map(int, input_bits)))\n",
    "    print(f\"Input: {input_bits}, Output: {output}\")\n"
   ]
  },
  {
   "attachments": {},
   "cell_type": "markdown",
   "metadata": {},
   "source": [
    "### Number of Calls to Determine the Function:\n",
    "You will need to call the function 16 times to be certain which function it is. This is because there are 16 possible inputs ($2^4 = 16$), and by testing the function with all possible inputs, you can uniquely identify the function's behavior based on its outputs for those inputs.\n",
    "\n",
    "The key idea is to test the function against all possible inputs to ensure that you've determined its behavior for all cases. Once you've done that, you can be certain about the function's nature among the 2^16 possible functions."
   ]
  },
  {
   "attachments": {},
   "cell_type": "markdown",
   "metadata": {},
   "source": [
    "### Using Brute Force to exhaustively check all 2^16 possible functions and determine which one matches the function you are given."
   ]
  },
  {
   "cell_type": "code",
   "execution_count": null,
   "metadata": {},
   "outputs": [],
   "source": [
    "import itertools\n",
    "\n",
    "# Define the 2^16 function\n",
    "def function_2_to_the_16(input_bits):\n",
    "    # Define the 2^16 function as a binary array\n",
    "    # Replace this array with the actual implementation\n",
    "    function_bits = [0, 1, 0, 1, 1, 0, 1, 0, 0, 1, 0, 1, 1, 0, 0, 1]\n",
    "    \n",
    "    if len(input_bits) != 4:\n",
    "        raise ValueError(\"Input must be a 4-bit binary string\")\n",
    "    \n",
    "    decimal_input = int(''.join(map(str, input_bits)), 2)\n",
    "    return function_bits[decimal_input]\n",
    "\n",
    "# Generate all possible 4-bit inputs\n",
    "possible_inputs = list(itertools.product([0, 1], repeat=4))\n",
    "\n",
    "# Iterate through all possible functions\n",
    "for candidate_function in itertools.product([0, 1], repeat=16):\n",
    "    # Assume this candidate function is correct\n",
    "    is_correct = True\n",
    "\n",
    "    # Check the function against all possible inputs\n",
    "    for input_bits in possible_inputs:\n",
    "        if function_2_to_the_16(input_bits) != candidate_function[int(''.join(map(str, input_bits)), 2)]:\n",
    "            is_correct = False\n",
    "            break\n",
    "\n",
    "    # If the candidate function matches for all inputs, it's the correct one\n",
    "    if is_correct:\n",
    "        print(\"Found the correct function:\", candidate_function)\n",
    "        break"
   ]
  },
  {
   "attachments": {},
   "cell_type": "markdown",
   "metadata": {},
   "source": [
    "### The first code and the brute force code serve different purposes and have different characteristics:\n",
    "\n",
    "**Purpose:**\n",
    "The first code is designed to randomly select one function out of all possible functions and test its behavior by calling it with various inputs. It simulates the process of randomly selecting a function and testing it to determine its behavior.\n",
    "The brute force code, on the other hand, is designed to systematically check all possible functions to find the one that matches a given function. It iterates through all 65,536 possible functions to identify the correct one.\n",
    "\n",
    "**Random vs. Systematic Search:**\n",
    "The first code selects a random function and tests it against inputs, which may or may not lead to the correct function. It relies on randomness to select a function and requires multiple function calls to be certain about the function's behavior.\n",
    "The brute force code systematically checks all possible functions, ensuring that it will find the correct function if it exists within the search space. It guarantees the identification of the correct function but may be computationally expensive due to the exhaustive search.\n",
    "\n",
    "**Number of Function Calls:**\n",
    "The first code requires you to call the function 16 times to be certain about its behavior. This is because it tests the function with all 16 possible inputs.\n",
    "The brute force code iterates through all possible functions, so the number of function calls depends on the given function's complexity and how quickly you find the correct one. It may require up to 65,536 function calls to identify the correct function.\n",
    "\n",
    "**Efficiency:**\n",
    "The first code is more efficient if you want to quickly identify the function by calling it only 16 times. However, it relies on randomness and may not always find the correct function.\n",
    "The brute force code guarantees finding the correct function, but it can be computationally expensive, especially if the given function is complex and time-consuming to evaluate.\n",
    "\n",
    "**In summary, the key difference is in the approach: the first code uses random sampling, while the brute force code systematically checks all possibilities. The choice of which approach to use depends on the specific requirements and constraints of your problem. If you need a guaranteed solution and have the computational resources, the brute force approach is more suitable. If you want a quicker but probabilistic solution, the first code may be preferred.**"
   ]
  },
  {
   "attachments": {},
   "cell_type": "markdown",
   "metadata": {},
   "source": [
    "***"
   ]
  },
  {
   "cell_type": "markdown",
   "metadata": {},
   "source": [
    "## 4. Write a function that performs matrix multiplication on two rectangular lists containing floats in python"
   ]
  },
  {
   "cell_type": "markdown",
   "metadata": {},
   "source": [
    "Matrix multiplication is a binary operation that produces another matrix by multiplying two matrices. The elements of the matrix are multiplied using basic arithmetic. When two matrices are multiplied, the row elements of the first matrix are multiplied by the column elements of the second matrix.[[7]](https://www.toppr.com/guides/python-guide/examples/python-examples/native-datatypes/multiply-matrix/python-program-to-multiply-two-matrices/)\n",
    "\n",
    "**Note:** It is only possible to multiply two matrices if the number of columns in the first matrix equals the number of rows in the second matrix."
   ]
  },
  {
   "cell_type": "code",
   "execution_count": null,
   "metadata": {},
   "outputs": [],
   "source": [
    "def matrix_multiply(mat1, mat2):\n",
    "    # Check if matrices can be multiplied\n",
    "    if len(mat1[0]) != len(mat2):\n",
    "        raise ValueError(\"Number of columns in the first matrix must be equal to the number of rows in the second matrix\")\n",
    "\n",
    "    # Initialize result matrix with zeros\n",
    "    result = [[0.0 for _ in range(len(mat2[0]))] for _ in range(len(mat1))]\n",
    "\n",
    "    # Perform matrix multiplication\n",
    "    for i in range(len(mat1)):\n",
    "        for j in range(len(mat2[0])):\n",
    "            for k in range(len(mat2)):\n",
    "                result[i][j] += mat1[i][k] * mat2[k][j]\n",
    "\n",
    "    return result\n",
    "\n",
    "# Example usage:\n",
    "matrix1 = [\n",
    "    [1.0, 2.0, 3.0],\n",
    "    [4.0, 5.0, 6.0],\n",
    "    [7.0, 8.0, 9.0]\n",
    "]\n",
    "\n",
    "matrix2 = [\n",
    "    [9.0, 8.0, 7.0],\n",
    "    [6.0, 5.0, 4.0],\n",
    "    [3.0, 2.0, 1.0]\n",
    "]\n",
    "\n",
    "result_matrix = matrix_multiply(matrix1, matrix2)\n",
    "print(result_matrix)"
   ]
  },
  {
   "cell_type": "markdown",
   "metadata": {},
   "source": [
    "This function checks whether the matrices can be multiplied (i.e., the number of columns in the first matrix is equal to the number of rows in the second matrix) and then performs the multiplication using three nested loops. The result is a new matrix containing the product of the input matrices.[[8]](https://www.geeksforgeeks.org/python-program-multiply-two-matrices/)"
   ]
  },
  {
   "attachments": {},
   "cell_type": "markdown",
   "metadata": {},
   "source": [
    "## References\n",
    "\n",
    "- Honner, Patrick. (2020). *The Simple Math Problem We Still Can’t Solve*.[[1]](https://www.quantamagazine.org/why-mathematicians-still-cant-solve-the-collatz-conjecture-20200922/)\n",
    "- Collatz Conjecture. Wikipedia [[2]](https://en.wikipedia.org/wiki/Collatz_conjecture#:~:text=The%20Collatz%20conjecture%20is%20one,every%20positive%20integer%20into%201.)\n",
    "- Christensen, Elsie (2023). *Python Implementation of the Collatz Conjecture*.[[3]](https://copyprogramming.com/howto/collatz-conjecture-in-python#collatz-conjecture-in-python)\n",
    "- Newton's Method, Wikipedia [[4]](https://en.wikipedia.org/wiki/Newton's_method)\n",
    "- Snehanjan, Chatterjee (2023) *Square root of a number without using sqrt() function*. [[5]](https://www.geeksforgeeks.org/square-root-of-a-number-without-using-sqrt-function/)\n",
    "- Groff, Matt (2013). *How many semantically different boolean functions are there for n boolean variables?*.[[6]](https://math.stackexchange.com/questions/505393/how-many-semantically-different-boolean-functions-are-there-for-n-boolean-variab)\n",
    "- *Python Program to Multiply Matrices*[[7]](https://www.toppr.com/guides/python-guide/examples/python-examples/native-datatypes/multiply-matrix/python-program-to-multiply-two-matrices/)\n",
    "- JMI, Shariq. *Python Program to Multiply Two Matrices*[[8]](https://www.geeksforgeeks.org/python-program-multiply-two-matrices/)"
   ]
  }
 ],
 "metadata": {
  "kernelspec": {
   "display_name": "base",
   "language": "python",
   "name": "python3"
  },
  "language_info": {
   "codemirror_mode": {
    "name": "ipython",
    "version": 3
   },
   "file_extension": ".py",
   "mimetype": "text/x-python",
   "name": "python",
   "nbconvert_exporter": "python",
   "pygments_lexer": "ipython3",
   "version": "3.10.4"
  },
  "orig_nbformat": 4,
  "vscode": {
   "interpreter": {
    "hash": "62047d31e03c4ab08927ad3d068bcbfbe50855ce56834602de08247cff52b6b1"
   }
  }
 },
 "nbformat": 4,
 "nbformat_minor": 2
}
