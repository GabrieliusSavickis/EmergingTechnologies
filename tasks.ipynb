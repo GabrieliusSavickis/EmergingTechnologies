{
 "cells": [
  {
   "cell_type": "markdown",
   "metadata": {},
   "source": [
    "# Emerging Technologies Tasks\n",
    "\n",
    "***"
   ]
  },
  {
   "attachments": {},
   "cell_type": "markdown",
   "metadata": {},
   "source": [
    "## 1. The Collatz Conjecture Problem"
   ]
  },
  {
   "cell_type": "markdown",
   "metadata": {},
   "source": [
    "### What is the Collatz Conjecture Problem?\n",
    "\n",
    "The Collatz Conjectuce Problem[[1]](https://www.quantamagazine.org/why-mathematicians-still-cant-solve-the-collatz-conjecture-20200922/) is a famous unsolved problem in mathematics. It's a relatively simple, yet intriguing mathematical puzzle that has stumped mathematics for decades. The conjecture is named after the German mathetmatician Lothar Collatz, who first introduced it in 1937.[[2]](https://en.wikipedia.org/wiki/Collatz_conjecture#:~:text=The%20Collatz%20conjecture%20is%20one,every%20positive%20integer%20into%201.)\n",
    "\n",
    "\\begin{cases}\n",
    "\\frac{x}3{2} & \\text{if } x \\text{ is even} \\\\\n",
    "3x + 1 & \\text{otherwise}\n",
    "\\end{cases}\n",
    "\n",
    "\n"
   ]
  },
  {
   "attachments": {},
   "cell_type": "markdown",
   "metadata": {},
   "source": [
    "***"
   ]
  },
  {
   "attachments": {},
   "cell_type": "markdown",
   "metadata": {},
   "source": [
    "## 2. Approximate the square root of a floating point number x without using the power operator or a package. "
   ]
  },
  {
   "attachments": {},
   "cell_type": "markdown",
   "metadata": {},
   "source": [
    "***"
   ]
  },
  {
   "attachments": {},
   "cell_type": "markdown",
   "metadata": {},
   "source": [
    "## 3. Determine the number of possible functions taking four bits as input and outputting a single bit"
   ]
  },
  {
   "attachments": {},
   "cell_type": "markdown",
   "metadata": {},
   "source": [
    "### How many times do you need to call the function to be certain what function it is?\n",
    "This question, in a sense, is a question of combinations.\n",
    "\n",
    "We can start with a single-valued function of Boolean variables. I claim that there are 2n\n",
    " combinations of a single-valued function. For instance, if we start with one variable, there are two combinations; namely, a\n",
    " and ¬a\n",
    ". If we have two variables, there are four combinations. This is because we can have, for a\n",
    ", either a\n",
    " or ¬a\n",
    ". Then, for b\n",
    ", we can have either b\n",
    " or ¬b\n",
    ". So there are four combinations between these two variables. \n",
    "Similarly, for four variables, there are $2×2×2x2=2^4$ combinations between these variables.[[4]](https://math.stackexchange.com/questions/505393/how-many-semantically-different-boolean-functions-are-there-for-n-boolean-variab)"
   ]
  },
  {
   "cell_type": "code",
   "execution_count": null,
   "metadata": {},
   "outputs": [],
   "source": [
    "import random\n",
    "\n",
    "# Generate a random 4-bit function represented as a list of 16 elements. \n",
    "# Each element can be either 0 or 1, which corresponds to the output of the function for a specific input. \n",
    "# This simulates one of the 2^16 possible functions.\n",
    "random_function = [random.choice([0, 1]) for _ in range(16)]\n",
    "\n",
    "# Define a function called evaluate_function that takes a 4-bit binary input as a list of 0s and 1s. \n",
    "# It first checks if the input is indeed 4 bits long. \n",
    "# Then, it converts the binary input to a decimal (base 10) representation to determine which position in the random_function \n",
    "# list corresponds to the given input and returns the corresponding output.\n",
    "def evaluate_function(input_bits):\n",
    "    if len(input_bits) != 4:\n",
    "        raise ValueError(\"Input must be a 4-bit binary string\")\n",
    "    \n",
    "    decimal_input = int(''.join(map(str, input_bits)), 2)\n",
    "    return random_function[decimal_input]\n",
    "\n",
    "# We test the function by iterating through all possible 4-bit binary inputs from 0000 to 1111 (0 to 15 in decimal). \n",
    "# For each input, we use format(i, '04b') to convert the integer i to a 4-bit binary string, \n",
    "# and then we evaluate the function using this input. We print both the input and the corresponding output.\n",
    "for i in range(16):\n",
    "    input_bits = format(i, '04b')  # Convert integer to 4-bit binary string\n",
    "    output = evaluate_function(list(map(int, input_bits)))\n",
    "    print(f\"Input: {input_bits}, Output: {output}\")\n"
   ]
  },
  {
   "attachments": {},
   "cell_type": "markdown",
   "metadata": {},
   "source": [
    "### Number of Calls to Determine the Function:\n",
    "You will need to call the function 16 times to be certain which function it is. This is because there are 16 possible inputs ($2^4 = 16$), and by testing the function with all possible inputs, you can uniquely identify the function's behavior based on its outputs for those inputs.\n",
    "\n",
    "The key idea is to test the function against all possible inputs to ensure that you've determined its behavior for all cases. Once you've done that, you can be certain about the function's nature among the 2^16 possible functions."
   ]
  },
  {
   "attachments": {},
   "cell_type": "markdown",
   "metadata": {},
   "source": [
    "### Using Brute Force to exhaustively check all 2^16 possible functions and determine which one matches the function you are given."
   ]
  },
  {
   "cell_type": "code",
   "execution_count": 8,
   "metadata": {},
   "outputs": [],
   "source": [
    "import itertools\n",
    "\n",
    "# Define the given function\n",
    "def given_function(input_bits):\n",
    "    # Replace this with the actual implementation of the given function\n",
    "    pass\n",
    "\n",
    "# Generate all possible 4-bit inputs\n",
    "possible_inputs = list(itertools.product([0, 1], repeat=4))\n",
    "\n",
    "# Iterate through all possible functions\n",
    "for candidate_function in itertools.product([0, 1], repeat=16):\n",
    "    # Assume this candidate function is correct\n",
    "    is_correct = True\n",
    "\n",
    "    # Check the function against all possible inputs\n",
    "    for input_bits in possible_inputs:\n",
    "        if given_function(input_bits) != candidate_function[int(''.join(map(str, input_bits)), 2)]:\n",
    "            is_correct = False\n",
    "            break\n",
    "\n",
    "    # If the candidate function matches for all inputs, it's the correct one\n",
    "    if is_correct:\n",
    "        print(\"Found the correct function:\", candidate_function)\n",
    "        break\n"
   ]
  },
  {
   "attachments": {},
   "cell_type": "markdown",
   "metadata": {},
   "source": [
    "### The first code and the brute force code serve different purposes and have different characteristics:\n",
    "\n",
    "**Purpose:**\n",
    "The first code is designed to randomly select one function out of all possible functions and test its behavior by calling it with various inputs. It simulates the process of randomly selecting a function and testing it to determine its behavior.\n",
    "The brute force code, on the other hand, is designed to systematically check all possible functions to find the one that matches a given function. It iterates through all 65,536 possible functions to identify the correct one.\n",
    "\n",
    "**Random vs. Systematic Search:**\n",
    "The first code selects a random function and tests it against inputs, which may or may not lead to the correct function. It relies on randomness to select a function and requires multiple function calls to be certain about the function's behavior.\n",
    "The brute force code systematically checks all possible functions, ensuring that it will find the correct function if it exists within the search space. It guarantees the identification of the correct function but may be computationally expensive due to the exhaustive search.\n",
    "\n",
    "**Number of Function Calls:**\n",
    "The first code requires you to call the function 16 times to be certain about its behavior. This is because it tests the function with all 16 possible inputs.\n",
    "The brute force code iterates through all possible functions, so the number of function calls depends on the given function's complexity and how quickly you find the correct one. It may require up to 65,536 function calls to identify the correct function.\n",
    "\n",
    "**Efficiency:**\n",
    "The first code is more efficient if you want to quickly identify the function by calling it only 16 times. However, it relies on randomness and may not always find the correct function.\n",
    "The brute force code guarantees finding the correct function, but it can be computationally expensive, especially if the given function is complex and time-consuming to evaluate.\n",
    "\n",
    "**In summary, the key difference is in the approach: the first code uses random sampling, while the brute force code systematically checks all possibilities. The choice of which approach to use depends on the specific requirements and constraints of your problem. If you need a guaranteed solution and have the computational resources, the brute force approach is more suitable. If you want a quicker but probabilistic solution, the first code may be preferred.**"
   ]
  },
  {
   "attachments": {},
   "cell_type": "markdown",
   "metadata": {},
   "source": [
    "***"
   ]
  },
  {
   "attachments": {},
   "cell_type": "markdown",
   "metadata": {},
   "source": [
    "### References\n",
    "\n",
    "- Honner, Patrick. (2020). *The Simple Math Problem We Still Can’t Solve*.[[1]](https://www.quantamagazine.org/why-mathematicians-still-cant-solve-the-collatz-conjecture-20200922/)\n",
    "- Collatz Conjecture. Wikipedia [[2]](https://en.wikipedia.org/wiki/Collatz_conjecture#:~:text=The%20Collatz%20conjecture%20is%20one,every%20positive%20integer%20into%201.)\n",
    "- Christensen, Elsie (2023). *Python Implementation of the Collatz Conjecture*.[[3]](https://copyprogramming.com/howto/collatz-conjecture-in-python#collatz-conjecture-in-python)\n",
    "- Groff, Matt. (2013). *How many semantically different boolean functions are there for n boolean variables?*.[[4]](https://math.stackexchange.com/questions/505393/how-many-semantically-different-boolean-functions-are-there-for-n-boolean-variab)"
   ]
  }
 ],
 "metadata": {
  "kernelspec": {
   "display_name": "base",
   "language": "python",
   "name": "python3"
  },
  "language_info": {
   "codemirror_mode": {
    "name": "ipython",
    "version": 3
   },
   "file_extension": ".py",
   "mimetype": "text/x-python",
   "name": "python",
   "nbconvert_exporter": "python",
   "pygments_lexer": "ipython3",
   "version": "3.11.5"
  },
  "orig_nbformat": 4,
  "vscode": {
   "interpreter": {
    "hash": "62047d31e03c4ab08927ad3d068bcbfbe50855ce56834602de08247cff52b6b1"
   }
  }
 },
 "nbformat": 4,
 "nbformat_minor": 2
}
