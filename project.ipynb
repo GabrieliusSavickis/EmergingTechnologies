{
 "cells": [
  {
   "cell_type": "markdown",
   "metadata": {},
   "source": [
    "# Deutsch's Algorithm"
   ]
  },
  {
   "cell_type": "markdown",
   "metadata": {},
   "source": [
    "# Introduction"
   ]
  },
  {
   "cell_type": "markdown",
   "metadata": {},
   "source": [
    "**Overview**\n",
    "<br>\n",
    "The Boolean function problem is a fundamental computer science problem that is addressed by the Deutsch algorithm. This problem involves determining the nature of an unknown function that takes a single bit as output. The algorithm specifically deals with the division of these functions into two groups: balanced and constant.\n",
    "\n",
    "A function is regarded as constant in this sense if it returns the same value (either 0 or 1) for every possible input. On the other hand, if a function yields 0 for half of the inputs and 1 for the other half, it is said to be balanced.[[1]](https://arxiv.org/pdf/quant-ph/9707033.pdf)\n",
    "\n",
    "**Solutions and Limitations**\n",
    "<br>\n",
    "In the usual way of tackling this issue, you'd typically query the boolean function twice, once for each potential input, and then take note of the resulting values. The outputs for a balanced function will differ for at least one pair of inputs, whereas the outputs for a constant function will always be the same.\n",
    "\n",
    "Although this classical approach is quite straightforward, as the input space increases, it becomes inefficient. For n-bit functions, the classical algorithm requires $ 2^{n-1} + 1 $ queries in the worst case, making it inefficient for large input spaces.[[2]](https://link.springer.com/article/10.1007/s11128-017-1679-7)\n",
    "\n",
    "**Quantum Advantage**\n",
    "<br>\n",
    "David Deutsch developed the algorithm in the 1980s, which uses quantum parallelism to solve the Boolean function problem with just one query. The advantage comes from the ability of quantum bits, or qubits, to exist in multiple states at once through a process known as superposition.\n",
    "\n",
    "Taking advantage of this characteristic, the quantum algorithm can assess the function for both potential inputs at the same time, resulting in a significant decrease in the necessary queries. This quantum parallelism highlights the potential for quantum computers to surpass classical counterparts in certain problem domains, even for tasks that may seem straightforward, such as the Boolean function problem. \n",
    "\n",
    "In the upcoming sections, we'll delve into the details of Deutsch's algorithm, examine how it's implemented in a quantum circuit using Qiskit, and simulate it's performance to illustrate its effectivess in solving this particular problem."
   ]
  },
  {
   "cell_type": "markdown",
   "metadata": {},
   "source": []
  },
  {
   "cell_type": "markdown",
   "metadata": {},
   "source": [
    "# References"
   ]
  },
  {
   "cell_type": "markdown",
   "metadata": {},
   "source": [
    "- Josza, Richard (1998) *Quantum algorithms and the Fourier transform*[[1]](https://arxiv.org/pdf/quant-ph/9707033.pdf)\n",
    "- Johansson, Niklas and Larsson, Jan (2017) *Efficient classical simulation of the Deutsch–Jozsa and Simon’s algorithms*[[2]](https://link.springer.com/article/10.1007/s11128-017-1679-7)"
   ]
  },
  {
   "cell_type": "markdown",
   "metadata": {},
   "source": []
  }
 ],
 "metadata": {
  "language_info": {
   "name": "python"
  }
 },
 "nbformat": 4,
 "nbformat_minor": 2
}
